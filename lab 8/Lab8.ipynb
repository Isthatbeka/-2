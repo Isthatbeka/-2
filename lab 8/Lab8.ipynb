{
 "cells": [
  {
   "cell_type": "markdown",
   "metadata": {},
   "source": [
    "# Работа с файлами и папками\n",
    "\n",
    "Скрипт может создать большое количество файлов, и вполне закономерно желание поместить их в различные папки. Работать с папками позволяет модуль `os`."
   ]
  },
  {
   "cell_type": "code",
   "execution_count": 1,
   "metadata": {},
   "outputs": [],
   "source": [
    "import os"
   ]
  },
  {
   "cell_type": "markdown",
   "metadata": {},
   "source": [
    "## Путь-подобные объекты\n",
    "\n",
    "Этот модуль взаимодействует с путь-подобными объектами. **Путь-подобный объект** -- это просто строка, которая содержит имя файла, имя папки, в которой он находится, имя папки, в которой находится эта папка и т.д. Имя файла и папок разделены прямой косой чертой (forward slash) `'/'` (Linux и MacOS) или двойной обратной косой чертой (double backward slash) `'\\\\'` (Windows). Путь бывает абсолютным, и тогда он начинается с имени диска в Windows и с `'/'`  в Linux, или относительным, и начинается с имени папки."
   ]
  },
  {
   "cell_type": "code",
   "execution_count": 13,
   "metadata": {},
   "outputs": [],
   "source": [
    "my_abs_path = 'C:\\\\Users\\\\elall\\\\OneDrive\\\\Documents\\\\Informatics\\\\B06-107\\\\Spring\\\\Lab8'\n",
    "# Это абсолютный путь\n",
    "my_rel_path = 'Сундук'\n",
    "# Это относительный путь"
   ]
  },
  {
   "cell_type": "markdown",
   "metadata": {},
   "source": [
    "Рассмотрим абсолютный путь: на диске `C` лежит папка `Users`, в ней папка `elall`, в ней `OneDrive`, который содержит `Documents`, в которой `Informatics`, в которой `B06-107`, в которой `Spring`, в которой `Lab8`.\n",
    "\n",
    "Относительный путь: в той же папке, где находится `Lab8.ipynb`, лежит папка `Сундук`.\n",
    "Проверим существование этих папок:"
   ]
  },
  {
   "cell_type": "code",
   "execution_count": 15,
   "metadata": {},
   "outputs": [
    {
     "data": {
      "text/plain": [
       "(True, True, False)"
      ]
     },
     "execution_count": 15,
     "metadata": {},
     "output_type": "execute_result"
    }
   ],
   "source": [
    "os.path.exists(my_abs_path), os.path.exists(my_rel_path), os.path.exists('Случайная ерунда')"
   ]
  },
  {
   "cell_type": "markdown",
   "metadata": {},
   "source": [
    "Можно проверить, является ли путь абсолютным:"
   ]
  },
  {
   "cell_type": "code",
   "execution_count": 16,
   "metadata": {},
   "outputs": [
    {
     "data": {
      "text/plain": [
       "(True, False)"
      ]
     },
     "execution_count": 16,
     "metadata": {},
     "output_type": "execute_result"
    }
   ],
   "source": [
    "os.path.isabs(my_abs_path), os.path.isabs(my_rel_path)"
   ]
  },
  {
   "cell_type": "markdown",
   "metadata": {},
   "source": [
    "Абсолютный путь отображается как абсолютный, относительный - нет.\n",
    "\n",
    "Также можно проверить, является ли то, к чему приводит путь, папкой или файлом:"
   ]
  },
  {
   "cell_type": "code",
   "execution_count": 18,
   "metadata": {},
   "outputs": [
    {
     "name": "stdout",
     "output_type": "stream",
     "text": [
      "Is Сундук a file? False\n",
      "Is Сундук a folder? True\n",
      "Is Lab8.ipynb a file? True\n",
      "Is Lab8.ipynb a folder? False\n"
     ]
    }
   ],
   "source": [
    "looks_like_a_folder = 'Сундук'\n",
    "looks_like_a_file = 'Lab8.ipynb'\n",
    "for obj in (looks_like_a_folder, looks_like_a_file):\n",
    "    print('Is', obj, 'a file?', os.path.isfile(obj))\n",
    "    print('Is', obj, 'a folder?', os.path.isdir(obj))"
   ]
  },
  {
   "cell_type": "markdown",
   "metadata": {},
   "source": [
    "Можно получить абсолютный путь по относительному:"
   ]
  },
  {
   "cell_type": "code",
   "execution_count": 19,
   "metadata": {},
   "outputs": [
    {
     "data": {
      "text/plain": [
       "'C:\\\\Users\\\\elall\\\\OneDrive\\\\Documents\\\\Informatics\\\\B06-107\\\\Spring\\\\Lab8\\\\Сундук'"
      ]
     },
     "execution_count": 19,
     "metadata": {},
     "output_type": "execute_result"
    }
   ],
   "source": [
    "os.path.abspath(my_rel_path)"
   ]
  },
  {
   "cell_type": "markdown",
   "metadata": {},
   "source": [
    "И наоборот:"
   ]
  },
  {
   "cell_type": "code",
   "execution_count": 20,
   "metadata": {},
   "outputs": [
    {
     "data": {
      "text/plain": [
       "'..'"
      ]
     },
     "execution_count": 20,
     "metadata": {},
     "output_type": "execute_result"
    }
   ],
   "source": [
    "os.path.relpath(my_abs_path, start=my_rel_path)"
   ]
  },
  {
   "cell_type": "markdown",
   "metadata": {},
   "source": [
    "Аргумент `start` задаёт начальную папку, от которой отсчитыватеся путь, по умолчанию, это папка, в которой лежит скрипт или ноутбук. Две точки `..` означают спуск на одну папку вниз.\n",
    "\n",
    "Иногда требуется отделить от пути имя папки или файла, к которому он приводит, папку, в которой он хранится, диск, на котором он находится или его расширение."
   ]
  },
  {
   "cell_type": "code",
   "execution_count": 21,
   "metadata": {},
   "outputs": [
    {
     "name": "stdout",
     "output_type": "stream",
     "text": [
      "Найдём имя файла или папки: Lab8\n",
      "Найдём путь к папке, где он лежит: C:\\Users\\elall\\OneDrive\\Documents\\Informatics\\B06-107\\Spring\n",
      "Найдём и то, и другое одной функцией: ('C:\\\\Users\\\\elall\\\\OneDrive\\\\Documents\\\\Informatics\\\\B06-107\\\\Spring', 'Lab8')\n",
      "Определим диск, на котором лежит файл: ('C:', '\\\\Users\\\\elall\\\\OneDrive\\\\Documents\\\\Informatics\\\\B06-107\\\\Spring\\\\Lab8')\n",
      "Определим расширение файла: ('C:\\\\Users\\\\elall\\\\OneDrive\\\\Documents\\\\Informatics\\\\B06-107\\\\Spring\\\\Lab8', '')\n"
     ]
    }
   ],
   "source": [
    "print('Найдём имя файла или папки:', os.path.basename(my_abs_path))\n",
    "print('Найдём путь к папке, где он лежит:', os.path.dirname(my_abs_path))\n",
    "print('Найдём и то, и другое одной функцией:', os.path.split(my_abs_path))\n",
    "print('Определим диск, на котором лежит файл:', os.path.splitdrive(my_abs_path))\n",
    "print('Определим расширение файла:', os.path.splitext(my_abs_path))"
   ]
  },
  {
   "cell_type": "markdown",
   "metadata": {},
   "source": [
    "Обратите внимание, функции `os.path.splitdrive` и `os.path.splitext` возвращают два значения.\n",
    "\n",
    "Функция `os.path.join` позволяет объединить имена вложенных папок в один путь, обращая внимание на операционную систему, в отличие от соответствующей функции для строк:"
   ]
  },
  {
   "cell_type": "code",
   "execution_count": 23,
   "metadata": {},
   "outputs": [
    {
     "data": {
      "text/plain": [
       "'Сундук\\\\Заяц\\\\Утка\\\\Яйцо'"
      ]
     },
     "execution_count": 23,
     "metadata": {},
     "output_type": "execute_result"
    }
   ],
   "source": [
    "folder_names = ['Сундук', \n",
    "               'Заяц',\n",
    "               'Утка',\n",
    "               'Яйцо']\n",
    "os.path.join(*folder_names)"
   ]
  },
  {
   "cell_type": "markdown",
   "metadata": {},
   "source": [
    "Обратите внимание, `os.path.join` принимает несколько строк (а не список и не кортеж строк)"
   ]
  },
  {
   "cell_type": "markdown",
   "metadata": {},
   "source": [
    "## Изменение файлов и папок\n",
    "\n",
    "Проверим, можно ли работать с файлом:"
   ]
  },
  {
   "cell_type": "code",
   "execution_count": 24,
   "metadata": {},
   "outputs": [
    {
     "name": "stdout",
     "output_type": "stream",
     "text": [
      "Файл существует? True\n",
      "Файл можно открыть на чтение? True\n",
      "Файл можно открыть на запись? True\n",
      "Файл можно запустить? True\n"
     ]
    }
   ],
   "source": [
    "my_path = 'Lab8.ipynb'\n",
    "print(\"Файл существует?\", os.access(my_path, os.F_OK))\n",
    "print(\"Файл можно открыть на чтение?\", os.access(my_path, os.R_OK))\n",
    "print(\"Файл можно открыть на запись?\", os.access(my_path, os.W_OK))\n",
    "print(\"Файл можно запустить?\", os.access(my_path, os.X_OK))"
   ]
  },
  {
   "cell_type": "markdown",
   "metadata": {},
   "source": [
    "F_OK, R_OK, W_OK и X_OK - константы, через которые задаётся, какие именно права мы хотим посмотреть.\n",
    "\n",
    "Можно посмотреть, что находится в интересующей нас папке:"
   ]
  },
  {
   "cell_type": "code",
   "execution_count": 25,
   "metadata": {},
   "outputs": [
    {
     "data": {
      "text/plain": [
       "['.ipynb_checkpoints', 'Lab8.ipynb', 'Сундук']"
      ]
     },
     "execution_count": 25,
     "metadata": {},
     "output_type": "execute_result"
    }
   ],
   "source": [
    "os.listdir('.') # одной точкой обозначается папка, в которой мы находимся"
   ]
  },
  {
   "cell_type": "markdown",
   "metadata": {},
   "source": [
    "Можно создать папку:"
   ]
  },
  {
   "cell_type": "code",
   "execution_count": 26,
   "metadata": {},
   "outputs": [
    {
     "data": {
      "text/plain": [
       "['.ipynb_checkpoints', 'Lab8.ipynb', 'My_new_folder', 'Сундук']"
      ]
     },
     "execution_count": 26,
     "metadata": {},
     "output_type": "execute_result"
    }
   ],
   "source": [
    "os.mkdir('My_new_folder')\n",
    "os.listdir('.')"
   ]
  },
  {
   "cell_type": "markdown",
   "metadata": {},
   "source": [
    "Можно ли создать папку сразу внутри другой создаваемой папки?"
   ]
  },
  {
   "cell_type": "code",
   "execution_count": 27,
   "metadata": {},
   "outputs": [
    {
     "ename": "FileNotFoundError",
     "evalue": "[WinError 3] The system cannot find the path specified: 'my\\\\new\\\\folder'",
     "output_type": "error",
     "traceback": [
      "\u001b[1;31m---------------------------------------------------------------------------\u001b[0m",
      "\u001b[1;31mFileNotFoundError\u001b[0m                         Traceback (most recent call last)",
      "\u001b[1;32m<ipython-input-27-d11cae233916>\u001b[0m in \u001b[0;36m<module>\u001b[1;34m\u001b[0m\n\u001b[1;32m----> 1\u001b[1;33m \u001b[0mos\u001b[0m\u001b[1;33m.\u001b[0m\u001b[0mmkdir\u001b[0m\u001b[1;33m(\u001b[0m\u001b[1;34m'my\\\\new\\\\folder'\u001b[0m\u001b[1;33m)\u001b[0m\u001b[1;33m\u001b[0m\u001b[1;33m\u001b[0m\u001b[0m\n\u001b[0m",
      "\u001b[1;31mFileNotFoundError\u001b[0m: [WinError 3] The system cannot find the path specified: 'my\\\\new\\\\folder'"
     ]
    }
   ],
   "source": [
    "os.mkdir('my\\\\new\\\\folder')"
   ]
  },
  {
   "cell_type": "markdown",
   "metadata": {},
   "source": [
    "Можно, если мы воспользуемся функцией `os.makedirs`:"
   ]
  },
  {
   "cell_type": "code",
   "execution_count": 31,
   "metadata": {},
   "outputs": [],
   "source": [
    "os.makedirs('my\\\\new\\\\folder')"
   ]
  },
  {
   "cell_type": "code",
   "execution_count": 33,
   "metadata": {},
   "outputs": [
    {
     "name": "stdout",
     "output_type": "stream",
     "text": [
      "['.ipynb_checkpoints', 'Lab8.ipynb', 'my', 'My_new_folder', 'Сундук']\n",
      "['new']\n",
      "['folder']\n"
     ]
    }
   ],
   "source": [
    "for folder in ('.', 'my', 'my\\\\new'):\n",
    "    print(os.listdir(folder))"
   ]
  },
  {
   "cell_type": "markdown",
   "metadata": {},
   "source": [
    "Удалить файл можно помощью функции os.remove:"
   ]
  },
  {
   "cell_type": "code",
   "execution_count": 36,
   "metadata": {},
   "outputs": [
    {
     "name": "stdout",
     "output_type": "stream",
     "text": [
      "['.ipynb_checkpoints', 'Lab8.ipynb', 'my', 'My_new_folder', 'unused.file', 'Сундук']\n",
      "['.ipynb_checkpoints', 'Lab8.ipynb', 'my', 'My_new_folder', 'Сундук']\n"
     ]
    }
   ],
   "source": [
    "with open('unused.file', 'w', encoding='utf8') as f:\n",
    "    print('Создадим что-нибудь ненужное', file=f)\n",
    "print(os.listdir())\n",
    "os.remove('unused.file') #удалим что-то ненужное\n",
    "print(os.listdir())"
   ]
  },
  {
   "cell_type": "markdown",
   "metadata": {},
   "source": [
    "Попробуем удалить папку:"
   ]
  },
  {
   "cell_type": "code",
   "execution_count": 37,
   "metadata": {},
   "outputs": [
    {
     "ename": "PermissionError",
     "evalue": "[WinError 5] Access is denied: 'My_new_folder'",
     "output_type": "error",
     "traceback": [
      "\u001b[1;31m---------------------------------------------------------------------------\u001b[0m",
      "\u001b[1;31mPermissionError\u001b[0m                           Traceback (most recent call last)",
      "\u001b[1;32m<ipython-input-37-9f7eda27fcbc>\u001b[0m in \u001b[0;36m<module>\u001b[1;34m\u001b[0m\n\u001b[1;32m----> 1\u001b[1;33m \u001b[0mos\u001b[0m\u001b[1;33m.\u001b[0m\u001b[0mremove\u001b[0m\u001b[1;33m(\u001b[0m\u001b[1;34m'My_new_folder'\u001b[0m\u001b[1;33m)\u001b[0m\u001b[1;33m\u001b[0m\u001b[1;33m\u001b[0m\u001b[0m\n\u001b[0m",
      "\u001b[1;31mPermissionError\u001b[0m: [WinError 5] Access is denied: 'My_new_folder'"
     ]
    }
   ],
   "source": [
    "os.remove('My_new_folder')"
   ]
  },
  {
   "cell_type": "markdown",
   "metadata": {},
   "source": [
    "Папки удаляются другой функцией:"
   ]
  },
  {
   "cell_type": "code",
   "execution_count": 39,
   "metadata": {},
   "outputs": [
    {
     "data": {
      "text/plain": [
       "['.ipynb_checkpoints', 'Lab8.ipynb', 'my', 'Сундук']"
      ]
     },
     "execution_count": 39,
     "metadata": {},
     "output_type": "execute_result"
    }
   ],
   "source": [
    "os.rmdir('My_new_folder')\n",
    "os.listdir()"
   ]
  },
  {
   "cell_type": "markdown",
   "metadata": {},
   "source": [
    "Извести папку, в которой лежит только папка, в которой лежит только пустая папка, можно с помощью removedirs:"
   ]
  },
  {
   "cell_type": "code",
   "execution_count": 40,
   "metadata": {},
   "outputs": [
    {
     "data": {
      "text/plain": [
       "['.ipynb_checkpoints', 'Lab8.ipynb', 'Сундук']"
      ]
     },
     "execution_count": 40,
     "metadata": {},
     "output_type": "execute_result"
    }
   ],
   "source": [
    "os.removedirs('my\\\\new\\\\folder')\n",
    "os.listdir()"
   ]
  },
  {
   "cell_type": "markdown",
   "metadata": {},
   "source": [
    "Можно переименовать какой-нибудь файл или папку"
   ]
  },
  {
   "cell_type": "code",
   "execution_count": 42,
   "metadata": {},
   "outputs": [
    {
     "name": "stdout",
     "output_type": "stream",
     "text": [
      "['Игла.txt']\n"
     ]
    },
    {
     "data": {
      "text/plain": [
       "['Смерть кащеева.txt']"
      ]
     },
     "execution_count": 42,
     "metadata": {},
     "output_type": "execute_result"
    }
   ],
   "source": [
    "egg = 'Сундук\\\\Заяц\\\\Утка\\\\Яйцо'\n",
    "print(os.listdir(egg))\n",
    "old_name = 'Игла.txt'\n",
    "new_name = 'Смерть кащеева.txt'\n",
    "full_old = os.path.join(egg, old_name) # пропишем старое имя с путём\n",
    "full_new = os.path.join(egg, new_name) # пропишем новое имя с путём\n",
    "os.rename(full_old, full_new)\n",
    "os.listdir(egg)"
   ]
  },
  {
   "cell_type": "markdown",
   "metadata": {},
   "source": [
    "## Упражнение 1\n",
    "\n",
    "Пафнутий редактировал csv-файлы в \"Блокноте\", увлёкся и не заметил, что они все сохранились с расширением `.txt`, да ещё и в папке со смешными картинками. Напишите скрипт, который сделает csv-файлам их правильное расширение, не тронув при этом картинки. Подтвердите его работоспособоность на файлах, которые вы найдёте в архиве `x.zip`, где x - ваш номер по списку."
   ]
  },
  {
   "cell_type": "markdown",
   "metadata": {},
   "source": [
    "## Прохождение внутрь папки\n",
    "\n",
    "С помощью функции os.walk можно увидеть содержимое всех папок, вложенных в переданную в качестве аргумента:"
   ]
  },
  {
   "cell_type": "code",
   "execution_count": 6,
   "metadata": {},
   "outputs": [
    {
     "name": "stdout",
     "output_type": "stream",
     "text": [
      "('Сундук', ['Заяц'], ['Тряпки_какие-то.txt'])\n",
      "('Сундук\\\\Заяц', ['Утка'], ['Кусок_морковки.txt'])\n",
      "('Сундук\\\\Заяц\\\\Утка', ['Яйцо'], ['Водоросли.txt'])\n",
      "('Сундук\\\\Заяц\\\\Утка\\\\Яйцо', [], ['Игла.txt'])\n"
     ]
    }
   ],
   "source": [
    "for item in os.walk('Сундук'):\n",
    "    print(item)"
   ]
  },
  {
   "cell_type": "markdown",
   "metadata": {},
   "source": [
    "Функция возвращает набор троек: имя папки, список папок, которые в ней находятся, файлы, которые в неё находятся.\n",
    "\n",
    "## Упражнение 2\n",
    "\n",
    "Напишите функцию, которая выводит все пустые папки (с путём) в заданной папке. Проверьте её работоспособность."
   ]
  },
  {
   "cell_type": "markdown",
   "metadata": {},
   "source": [
    "## Упражнение 3\n",
    "\n",
    "Для каждого файла из упражнения №1 постройте точечный график (первый столбец - абсциссы, остальные - ординаты различных серий) и сохраните как `png`. Все графики должны оказаться в специально созданной скриптом папке."
   ]
  }
 ],
 "metadata": {
  "kernelspec": {
   "display_name": "Python 3 (ipykernel)",
   "language": "python",
   "name": "python3"
  },
  "language_info": {
   "codemirror_mode": {
    "name": "ipython",
    "version": 3
   },
   "file_extension": ".py",
   "mimetype": "text/x-python",
   "name": "python",
   "nbconvert_exporter": "python",
   "pygments_lexer": "ipython3",
   "version": "3.9.12"
  },
  "toc": {
   "base_numbering": 1,
   "nav_menu": {
    "height": "135.994px",
    "width": "259.119px"
   },
   "number_sections": false,
   "sideBar": true,
   "skip_h1_title": false,
   "title_cell": "Table of Contents",
   "title_sidebar": "Contents",
   "toc_cell": false,
   "toc_position": {},
   "toc_section_display": true,
   "toc_window_display": false
  }
 },
 "nbformat": 4,
 "nbformat_minor": 4
}
