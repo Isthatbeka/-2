{
 "cells": [
  {
   "cell_type": "code",
   "execution_count": 1,
   "id": "c4b56ce4",
   "metadata": {},
   "outputs": [
    {
     "name": "stdout",
     "output_type": "stream",
     "text": [
      ".txt\n",
      ".txt\n",
      ".txt\n",
      ".txt\n",
      ".txt\n",
      ".txt\n",
      ".txt\n",
      ".txt\n",
      ".txt\n",
      ".txt\n",
      ".txt\n",
      ".txt\n",
      ".txt\n",
      ".txt\n",
      ".txt\n",
      ".txt\n",
      ".txt\n",
      ".txt\n",
      ".txt\n",
      ".txt\n",
      ".txt\n",
      ".txt\n",
      ".txt\n",
      ".txt\n",
      ".txt\n",
      ".txt\n",
      ".txt\n",
      ".txt\n",
      ".txt\n",
      ".txt\n",
      ".txt\n",
      ".txt\n",
      ".txt\n",
      ".txt\n",
      ".txt\n",
      ".txt\n",
      ".txt\n",
      ".txt\n",
      ".txt\n",
      ".png\n"
     ]
    },
    {
     "data": {
      "text/plain": [
       "['01.csv.txt',\n",
       " '02.csv.txt',\n",
       " '03.csv.txt',\n",
       " '04.csv.txt',\n",
       " '05.csv.txt',\n",
       " '06.csv.txt',\n",
       " '07.csv.txt',\n",
       " '08.csv.txt',\n",
       " '09.csv.txt',\n",
       " '10.csv.txt',\n",
       " '11.csv.txt',\n",
       " '12.csv.txt',\n",
       " '13.csv.txt',\n",
       " '14.csv.txt',\n",
       " '15.csv.txt',\n",
       " '16.csv.txt',\n",
       " '17.csv.txt',\n",
       " '18.csv.txt',\n",
       " '19.csv.txt',\n",
       " '20.csv.txt',\n",
       " '21.csv.txt',\n",
       " '22.csv.txt',\n",
       " '23.csv.txt',\n",
       " '24.csv.txt',\n",
       " '25.csv.txt',\n",
       " '26.csv.txt',\n",
       " '27.csv.txt',\n",
       " '28.csv.txt',\n",
       " '29.csv.txt',\n",
       " '30.csv.txt',\n",
       " '31.csv.txt',\n",
       " '32.csv.txt',\n",
       " '33.csv.txt',\n",
       " '34.csv.txt',\n",
       " '35.csv.txt',\n",
       " '36.csv.txt',\n",
       " '37.csv.txt',\n",
       " '38.csv.txt',\n",
       " '39.csv.txt',\n",
       " 'kot-est2_holodilnik.png']"
      ]
     },
     "execution_count": 1,
     "metadata": {},
     "output_type": "execute_result"
    }
   ],
   "source": [
    "\n",
    "import os\n",
    "\n",
    "getway='C:\\\\Users\\\\Admin\\\\PycharmProjects\\\\2 семестр\\\\lab 8\\\\15'\n",
    "where_files = os.listdir(getway)\n",
    "\n",
    "for file in where_files:\n",
    "    way, file_type = os.path.splitext(file)\n",
    "    print(file_type)\n",
    "    if file_type == '':\n",
    "        old_name = []\n",
    "        old_name = file[:2]\n",
    "        new_name = old_name+'.csv'\n",
    "        full_old = os.path.join(getway, file) # пропишем старое имя с путём\n",
    "        full_new = os.path.join(getway, new_name) # пропишем новое имя с путём\n",
    "        os.rename(full_old, full_new)\n",
    "os.listdir('C:\\\\Users\\\\Admin\\\\PycharmProjects\\\\2 семестр\\\\lab 8\\\\15')"
   ]
  },
  {
   "cell_type": "code",
   "execution_count": 52,
   "id": "d648b6ee",
   "metadata": {},
   "outputs": [
    {
     "name": "stdout",
     "output_type": "stream",
     "text": [
      "Сундук\\Заяц\n",
      "Пустая папка в зайце\n",
      "Сундук\n",
      "Пустая папка\n"
     ]
    }
   ],
   "source": [
    "import os\n",
    "\n",
    "path = 'Сундук'\n",
    "\n",
    "for item in os.walk(path):\n",
    "    way, dirs, files = item\n",
    "    if folders == [] and files == []:\n",
    "        print(os.path.dirname(way))\n",
    "        print(os.path.basename(way))\n"
   ]
  },
  {
   "cell_type": "code",
   "execution_count": null,
   "id": "935999b1",
   "metadata": {},
   "outputs": [],
   "source": [
    "import os\n",
    "import pandas as pd;\n",
    "import matplotlib.pyplot as plt;\n",
    "\n",
    "\n"
   ]
  }
 ],
 "metadata": {
  "kernelspec": {
   "display_name": "Python 3 (ipykernel)",
   "language": "python",
   "name": "python3"
  },
  "language_info": {
   "codemirror_mode": {
    "name": "ipython",
    "version": 3
   },
   "file_extension": ".py",
   "mimetype": "text/x-python",
   "name": "python",
   "nbconvert_exporter": "python",
   "pygments_lexer": "ipython3",
   "version": "3.9.7"
  }
 },
 "nbformat": 4,
 "nbformat_minor": 5
}
